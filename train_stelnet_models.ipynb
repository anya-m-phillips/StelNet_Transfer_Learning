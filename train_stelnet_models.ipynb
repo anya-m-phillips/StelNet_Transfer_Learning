{
 "cells": [
  {
   "cell_type": "markdown",
   "id": "f163ef0f-764c-4ac6-90d9-1a7385c8e30b",
   "metadata": {},
   "source": [
    "# Tutorial notebook for training photometry->surface params models and doing transfer learning for surface params->age and mass models"
   ]
  },
  {
   "cell_type": "markdown",
   "id": "2b4f3a61-5020-465f-80ac-776214cd040f",
   "metadata": {},
   "source": [
    "(work in progress)"
   ]
  },
  {
   "cell_type": "code",
   "execution_count": 1,
   "id": "f39463d2-4b4c-41d4-99d4-ba3c1f7cc8c3",
   "metadata": {},
   "outputs": [],
   "source": [
    "# IMPORT LIBRARIES\n",
    "\n",
    "import random as rn\n",
    "import numpy as np\n",
    "import math as mt\n",
    "\n",
    "import matplotlib.pyplot as plt\n",
    "from matplotlib import cm\n",
    "#from mpl_toolkits import mplot3d\n",
    "%matplotlib inline\n",
    "\n",
    "import pylab as pl\n",
    "import sys\n",
    "#from matplotlib.pyplot import cm\n",
    "#import glob\n",
    "import pandas as pd\n",
    "\n",
    "#from astropy.table import Table\n",
    "\n",
    "#import torch\n",
    "#import torch.nn as nn\n",
    "import StelNet as st"
   ]
  },
  {
   "cell_type": "code",
   "execution_count": null,
   "id": "dbb8381f-37f9-400d-a580-825f23552614",
   "metadata": {},
   "outputs": [],
   "source": []
  }
 ],
 "metadata": {
  "kernelspec": {
   "display_name": "Python 3 (ipykernel)",
   "language": "python",
   "name": "python3"
  },
  "language_info": {
   "codemirror_mode": {
    "name": "ipython",
    "version": 3
   },
   "file_extension": ".py",
   "mimetype": "text/x-python",
   "name": "python",
   "nbconvert_exporter": "python",
   "pygments_lexer": "ipython3",
   "version": "3.11.4"
  }
 },
 "nbformat": 4,
 "nbformat_minor": 5
}
