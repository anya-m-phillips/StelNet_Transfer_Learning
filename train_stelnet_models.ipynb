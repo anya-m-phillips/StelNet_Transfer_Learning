{
 "cells": [
  {
   "cell_type": "markdown",
   "id": "f163ef0f-764c-4ac6-90d9-1a7385c8e30b",
   "metadata": {},
   "source": [
    "# Tutorial notebook for training photometry->surface params models and doing transfer learning for surface params->age and mass models"
   ]
  },
  {
   "cell_type": "markdown",
   "id": "2b4f3a61-5020-465f-80ac-776214cd040f",
   "metadata": {},
   "source": [
    "(work in progress)"
   ]
  },
  {
   "cell_type": "code",
   "execution_count": 1,
   "id": "f39463d2-4b4c-41d4-99d4-ba3c1f7cc8c3",
   "metadata": {},
   "outputs": [],
   "source": [
    "# IMPORT LIBRARIES\n",
    "\n",
    "import random as rn\n",
    "import numpy as np\n",
    "import math as mt\n",
    "\n",
    "import matplotlib.pyplot as plt\n",
    "from matplotlib import cm\n",
    "#from mpl_toolkits import mplot3d\n",
    "%matplotlib inline\n",
    "\n",
    "import pylab as pl\n",
    "import sys\n",
    "#from matplotlib.pyplot import cm\n",
    "#import glob\n",
    "import pandas as pd\n",
    "\n",
    "#from astropy.table import Table\n",
    "\n",
    "#import torch\n",
    "#import torch.nn as nn\n",
    "import StelNet as st"
   ]
  },
  {
   "cell_type": "markdown",
   "id": "7b1204c3-6034-48a5-a4e8-75cf2997f2e1",
   "metadata": {},
   "source": [
    "We can give the age/mass component of StelNet information about new datasets using `st.transfer_learning_bootstraps()`. As an example, let's do transfer learning on the baseline models with the David & Hillenbrand sample of stellar ages and masses and Godoy-Rivera sample of subgiants."
   ]
  },
  {
   "cell_type": "code",
   "execution_count": 2,
   "id": "5574e177-410c-4cbc-90b4-4c797bb08798",
   "metadata": {},
   "outputs": [],
   "source": [
    "## load D&H stars:\n",
    "dh_data_raw = pd.read_csv('Data/postZAMS/DH.csv') \n",
    "dh_df = pd.DataFrame(dh_data_raw)\n",
    "dh_df['teff_log'] = np.log10(dh_df['Teff'].astype(float))\n",
    "dh_df['lum_log'] = np.log10(dh_df['lum_val'].astype(float))\n",
    "\n",
    "dh_df['ageyr'] = dh_df['Ageavg']*1e+6\n",
    "dh_df['logAge'] = np.log10(dh_df['ageyr'])\n",
    "dh_df['logMass'] = np.log10(dh_df['Mavg'])\n",
    "\n",
    "Data_dh = dh_df[['teff_log','lum_log', 'logAge', 'logMass']].dropna().values.astype(float)\n",
    "\n",
    "## load G-R subgiants:\n",
    "gr_data_raw = pd.read_csv('Data/postZAMS/G-R.csv') \n",
    "gr_df = pd.DataFrame(gr_data_raw)\n",
    "gr_df['teff_log'] = np.log10(gr_df['Teff'].astype(float))\n",
    "gr_df['lum_log'] = np.log10(gr_df[\"Luminosity\"].astype(float)) \n",
    "\n",
    "gr_df['ageyr'] = gr_df['Age']*1e+9\n",
    "gr_df['logAge'] = np.log10(gr_df['ageyr'])   \n",
    "gr_df['logMass'] = np.log10(gr_df['Mass'])\n",
    "\n",
    "Data_gr = gr_df[['teff_log','lum_log', 'logAge', 'logMass']].dropna().values.astype(float)"
   ]
  },
  {
   "cell_type": "code",
   "execution_count": 3,
   "id": "73c3c950-0837-4af5-a58a-e22803b3b667",
   "metadata": {},
   "outputs": [
    {
     "name": "stdout",
     "output_type": "stream",
     "text": [
      "1869\n",
      "340\n"
     ]
    }
   ],
   "source": [
    "print(len(Data_dh))\n",
    "print(len(Data_gr))"
   ]
  },
  {
   "cell_type": "markdown",
   "id": "0fa6faf4-7a80-4135-8da6-77c1d50bbf3b",
   "metadata": {},
   "source": [
    "The function requires a list of arrays to be used for transfer learning. In addition, it needs the approximate number of stars from each catalog that we'd like to use in training. For this example, let's take ~50 stars from the D&H catalog and ~20 from the G-R catalog.\n",
    "\n",
    "To anchor the model's predictions to stellar evolution theory where we don't have new data, we also add some random datapoints from MIST\n",
    "\n",
    "**Note, in future it might make sense to use more stars from each catalog (not mist)--an 80%/20% train/test split is common (and could be hard coded into StelNet.py so that you distinguish between the training and testing, and only visualize results with the test data); this is an experiment using way way less than that for training."
   ]
  },
  {
   "cell_type": "code",
   "execution_count": 4,
   "id": "3e84f47d-b32a-4d3d-a351-5a553e454c8a",
   "metadata": {},
   "outputs": [],
   "source": [
    "datasets = [Data_dh, Data_gr]\n",
    "n_trs = [50,20] # number of stars to draw from each catalog\n",
    "n_trs_mist = 50 # number of MIST stars to include"
   ]
  },
  {
   "cell_type": "markdown",
   "id": "93f2eb95-23b3-45a6-93a0-1c8cdb1ef886",
   "metadata": {},
   "source": [
    "We specify a `modelname`, a path for the new models we generate to get saved to when the function is run; all n bootstraps will get saved here, numbered 0-(n-1). We assume 20 bootstraps, and set the number of iterations to train for, `n_it`."
   ]
  },
  {
   "cell_type": "code",
   "execution_count": 5,
   "id": "1a054831-b99a-4fe8-a6ef-c14d1620643d",
   "metadata": {},
   "outputs": [],
   "source": [
    "modelname = \"Models/TL/new_TL/github_example/postms_tl_example\"\n",
    "n_it=100"
   ]
  },
  {
   "cell_type": "markdown",
   "id": "e2d2acc9-1a19-4f24-b11c-cdad68ec06b9",
   "metadata": {},
   "source": [
    "Running the function below, note that we specify `stage=\"post\"` because we want to re-train post-ZAMS models"
   ]
  },
  {
   "cell_type": "code",
   "execution_count": 6,
   "id": "11931841-5a81-41b1-87e0-a5eb5f40d5b6",
   "metadata": {
    "collapsed": true,
    "jupyter": {
     "outputs_hidden": true
    },
    "scrolled": true
   },
   "outputs": [
    {
     "name": "stdout",
     "output_type": "stream",
     "text": [
      "training model # -1\n",
      "[iteration 0010] loss: 0.5329\n",
      "[iteration 0020] loss: 0.0812\n",
      "[iteration 0030] loss: 0.0974\n",
      "[iteration 0040] loss: 0.0515\n",
      "[iteration 0050] loss: 0.0424\n",
      "[iteration 0060] loss: 0.0396\n",
      "[iteration 0070] loss: 0.0365\n",
      "[iteration 0080] loss: 0.0342\n",
      "[iteration 0090] loss: 0.0328\n",
      "[iteration 0100] loss: 0.0316\n",
      "training model # 0\n",
      "[iteration 0010] loss: 0.1021\n",
      "[iteration 0020] loss: 0.0473\n",
      "[iteration 0030] loss: 0.0391\n",
      "[iteration 0040] loss: 0.0295\n",
      "[iteration 0050] loss: 0.0267\n",
      "[iteration 0060] loss: 0.0257\n",
      "[iteration 0070] loss: 0.0247\n",
      "[iteration 0080] loss: 0.0240\n",
      "[iteration 0090] loss: 0.0235\n",
      "[iteration 0100] loss: 0.0231\n",
      "training model # 1\n",
      "[iteration 0010] loss: 0.1126\n",
      "[iteration 0020] loss: 0.0509\n",
      "[iteration 0030] loss: 0.0431\n",
      "[iteration 0040] loss: 0.0355\n",
      "[iteration 0050] loss: 0.0331\n",
      "[iteration 0060] loss: 0.0320\n",
      "[iteration 0070] loss: 0.0304\n",
      "[iteration 0080] loss: 0.0294\n",
      "[iteration 0090] loss: 0.0288\n",
      "[iteration 0100] loss: 0.0282\n",
      "training model # 2\n",
      "[iteration 0010] loss: 0.1117\n",
      "[iteration 0020] loss: 0.0624\n",
      "[iteration 0030] loss: 0.0489\n",
      "[iteration 0040] loss: 0.0418\n",
      "[iteration 0050] loss: 0.0386\n",
      "[iteration 0060] loss: 0.0367\n",
      "[iteration 0070] loss: 0.0353\n",
      "[iteration 0080] loss: 0.0344\n",
      "[iteration 0090] loss: 0.0338\n",
      "[iteration 0100] loss: 0.0333\n",
      "training model # 3\n",
      "[iteration 0010] loss: 0.0751\n",
      "[iteration 0020] loss: 0.0460\n",
      "[iteration 0030] loss: 0.0401\n",
      "[iteration 0040] loss: 0.0356\n",
      "[iteration 0050] loss: 0.0329\n",
      "[iteration 0060] loss: 0.0322\n",
      "[iteration 0070] loss: 0.0316\n",
      "[iteration 0080] loss: 0.0312\n",
      "[iteration 0090] loss: 0.0308\n",
      "[iteration 0100] loss: 0.0305\n",
      "training model # 4\n",
      "[iteration 0010] loss: 0.0444\n",
      "[iteration 0020] loss: 0.0532\n",
      "[iteration 0030] loss: 0.0364\n",
      "[iteration 0040] loss: 0.0307\n",
      "[iteration 0050] loss: 0.0251\n",
      "[iteration 0060] loss: 0.0249\n",
      "[iteration 0070] loss: 0.0239\n",
      "[iteration 0080] loss: 0.0236\n",
      "[iteration 0090] loss: 0.0232\n",
      "[iteration 0100] loss: 0.0228\n",
      "training model # 5\n",
      "[iteration 0010] loss: 0.0557\n",
      "[iteration 0020] loss: 0.0372\n",
      "[iteration 0030] loss: 0.0302\n",
      "[iteration 0040] loss: 0.0269\n",
      "[iteration 0050] loss: 0.0249\n",
      "[iteration 0060] loss: 0.0240\n",
      "[iteration 0070] loss: 0.0234\n",
      "[iteration 0080] loss: 0.0228\n",
      "[iteration 0090] loss: 0.0223\n",
      "[iteration 0100] loss: 0.0221\n",
      "training model # 6\n",
      "[iteration 0010] loss: 0.0626\n",
      "[iteration 0020] loss: 0.0509\n",
      "[iteration 0030] loss: 0.0389\n",
      "[iteration 0040] loss: 0.0353\n",
      "[iteration 0050] loss: 0.0331\n",
      "[iteration 0060] loss: 0.0323\n",
      "[iteration 0070] loss: 0.0315\n",
      "[iteration 0080] loss: 0.0310\n",
      "[iteration 0090] loss: 0.0306\n",
      "[iteration 0100] loss: 0.0301\n",
      "training model # 7\n",
      "[iteration 0010] loss: 0.0681\n",
      "[iteration 0020] loss: 0.0486\n",
      "[iteration 0030] loss: 0.0345\n",
      "[iteration 0040] loss: 0.0300\n",
      "[iteration 0050] loss: 0.0269\n",
      "[iteration 0060] loss: 0.0258\n",
      "[iteration 0070] loss: 0.0249\n",
      "[iteration 0080] loss: 0.0245\n",
      "[iteration 0090] loss: 0.0241\n",
      "[iteration 0100] loss: 0.0238\n",
      "training model # 8\n",
      "[iteration 0010] loss: 0.0655\n",
      "[iteration 0020] loss: 0.0469\n",
      "[iteration 0030] loss: 0.0368\n",
      "[iteration 0040] loss: 0.0308\n",
      "[iteration 0050] loss: 0.0280\n",
      "[iteration 0060] loss: 0.0261\n",
      "[iteration 0070] loss: 0.0251\n",
      "[iteration 0080] loss: 0.0243\n",
      "[iteration 0090] loss: 0.0237\n",
      "[iteration 0100] loss: 0.0228\n",
      "training model # 9\n",
      "[iteration 0010] loss: 0.0576\n",
      "[iteration 0020] loss: 0.0403\n",
      "[iteration 0030] loss: 0.0294\n",
      "[iteration 0040] loss: 0.0295\n",
      "[iteration 0050] loss: 0.0270\n",
      "[iteration 0060] loss: 0.0241\n",
      "[iteration 0070] loss: 0.0271\n",
      "[iteration 0080] loss: 0.0237\n",
      "[iteration 0090] loss: 0.0217\n",
      "[iteration 0100] loss: 0.0213\n",
      "training model # 10\n",
      "[iteration 0010] loss: 0.0653\n",
      "[iteration 0020] loss: 0.0472\n",
      "[iteration 0030] loss: 0.0341\n",
      "[iteration 0040] loss: 0.0286\n",
      "[iteration 0050] loss: 0.0270\n",
      "[iteration 0060] loss: 0.0257\n",
      "[iteration 0070] loss: 0.0251\n",
      "[iteration 0080] loss: 0.0247\n",
      "[iteration 0090] loss: 0.0244\n",
      "[iteration 0100] loss: 0.0242\n",
      "training model # 11\n",
      "[iteration 0010] loss: 0.0591\n",
      "[iteration 0020] loss: 0.0353\n",
      "[iteration 0030] loss: 0.0279\n",
      "[iteration 0040] loss: 0.0255\n",
      "[iteration 0050] loss: 0.0242\n",
      "[iteration 0060] loss: 0.0234\n",
      "[iteration 0070] loss: 0.0229\n",
      "[iteration 0080] loss: 0.0224\n",
      "[iteration 0090] loss: 0.0221\n",
      "[iteration 0100] loss: 0.0218\n",
      "training model # 12\n",
      "[iteration 0010] loss: 0.0499\n",
      "[iteration 0020] loss: 0.0347\n",
      "[iteration 0030] loss: 0.0290\n",
      "[iteration 0040] loss: 0.0257\n",
      "[iteration 0050] loss: 0.0241\n",
      "[iteration 0060] loss: 0.0234\n",
      "[iteration 0070] loss: 0.0229\n",
      "[iteration 0080] loss: 0.0226\n",
      "[iteration 0090] loss: 0.0224\n",
      "[iteration 0100] loss: 0.0222\n",
      "training model # 13\n",
      "[iteration 0010] loss: 0.0835\n",
      "[iteration 0020] loss: 0.0437\n",
      "[iteration 0030] loss: 0.0322\n",
      "[iteration 0040] loss: 0.0250\n",
      "[iteration 0050] loss: 0.0228\n",
      "[iteration 0060] loss: 0.0217\n",
      "[iteration 0070] loss: 0.0209\n",
      "[iteration 0080] loss: 0.0205\n",
      "[iteration 0090] loss: 0.0202\n",
      "[iteration 0100] loss: 0.0199\n",
      "training model # 14\n",
      "[iteration 0010] loss: 0.0855\n",
      "[iteration 0020] loss: 0.0512\n",
      "[iteration 0030] loss: 0.0434\n",
      "[iteration 0040] loss: 0.0373\n",
      "[iteration 0050] loss: 0.0350\n",
      "[iteration 0060] loss: 0.0317\n",
      "[iteration 0070] loss: 0.0294\n",
      "[iteration 0080] loss: 0.0282\n",
      "[iteration 0090] loss: 0.0275\n",
      "[iteration 0100] loss: 0.0269\n",
      "training model # 15\n",
      "[iteration 0010] loss: 0.0753\n",
      "[iteration 0020] loss: 0.0487\n",
      "[iteration 0030] loss: 0.0405\n",
      "[iteration 0040] loss: 0.0369\n",
      "[iteration 0050] loss: 0.0346\n",
      "[iteration 0060] loss: 0.0325\n",
      "[iteration 0070] loss: 0.0310\n",
      "[iteration 0080] loss: 0.0299\n",
      "[iteration 0090] loss: 0.0289\n",
      "[iteration 0100] loss: 0.0281\n",
      "training model # 16\n",
      "[iteration 0010] loss: 0.1109\n",
      "[iteration 0020] loss: 0.0631\n",
      "[iteration 0030] loss: 0.0569\n",
      "[iteration 0040] loss: 0.0517\n",
      "[iteration 0050] loss: 0.0490\n",
      "[iteration 0060] loss: 0.0473\n",
      "[iteration 0070] loss: 0.0459\n",
      "[iteration 0080] loss: 0.0450\n",
      "[iteration 0090] loss: 0.0443\n",
      "[iteration 0100] loss: 0.0437\n",
      "training model # 17\n",
      "[iteration 0010] loss: 0.0512\n",
      "[iteration 0020] loss: 0.0277\n",
      "[iteration 0030] loss: 0.0222\n",
      "[iteration 0040] loss: 0.0190\n",
      "[iteration 0050] loss: 0.0205\n",
      "[iteration 0060] loss: 0.0178\n",
      "[iteration 0070] loss: 0.0184\n",
      "[iteration 0080] loss: 0.0163\n",
      "[iteration 0090] loss: 0.0156\n",
      "[iteration 0100] loss: 0.0217\n",
      "training model # 18\n",
      "[iteration 0010] loss: 0.0956\n",
      "[iteration 0020] loss: 0.0544\n",
      "[iteration 0030] loss: 0.0421\n",
      "[iteration 0040] loss: 0.0360\n",
      "[iteration 0050] loss: 0.0340\n",
      "[iteration 0060] loss: 0.0324\n",
      "[iteration 0070] loss: 0.0312\n",
      "[iteration 0080] loss: 0.0303\n",
      "[iteration 0090] loss: 0.0295\n",
      "[iteration 0100] loss: 0.0288\n"
     ]
    }
   ],
   "source": [
    "st.transfer_learning_bootstraps(data=datasets, n_trs=n_trs, n_trs_mist=n_trs_mist,\n",
    "                                modelname=modelname, stage=\"post\", n_it=n_it, verbose=True)"
   ]
  },
  {
   "cell_type": "markdown",
   "id": "1c22869c-2f39-465c-a3c6-699ddb798471",
   "metadata": {},
   "source": [
    "The easiest way to use new models is to add the model path as a transfer learning option in `StelNet.py`. See the `predict_age_mass()` function for the application of this example, where we set a new option for `TL=\"example\"`. Now we can make predictions with this new model of StelNet, say, for the FGK benchmarks:"
   ]
  },
  {
   "cell_type": "code",
   "execution_count": 9,
   "id": "ee2388bb-d28d-4707-9f7d-4f6e93687408",
   "metadata": {},
   "outputs": [],
   "source": [
    "data_raw = pd.read_csv('Data/postZAMS/FGK.csv') \n",
    "df = pd.DataFrame(data_raw)\n",
    "df['teff_log'] = np.log10(df['Teff'].astype(float))\n",
    "df['lum_log'] = df[\"Lum\"].astype(float)  # luminosity column is already log scaled in this file\n",
    "\n",
    "df['ageyr'] = df['med_age']*1e+9\n",
    "df['logAge'] = np.log10(df['ageyr'])   \n",
    "df['logMass'] = np.log10(df['M'])\n",
    "\n",
    "Data = df[['teff_log','lum_log', 'logAge', 'logMass']].dropna().astype(float)\n",
    "\n",
    "\n",
    "data_x = Data[['teff_log','lum_log']]\n",
    "data_y = Data[['logAge','logMass']]\n",
    "\n",
    "data = data_x.values.astype('float')\n",
    "data_0 = np.copy(data)"
   ]
  },
  {
   "cell_type": "code",
   "execution_count": 12,
   "id": "40d3b10e-9de1-4fa4-a2ec-59aeed7e0f85",
   "metadata": {},
   "outputs": [],
   "source": [
    "# Predict with a number (num_models) bootsptrap for both the pre-ZAMS and the post-ZAMS \n",
    "num_NNs=20\n",
    "y_pre, y_post= st.predict_age_mass(data, n=num_NNs, TL=\"example\")"
   ]
  },
  {
   "cell_type": "code",
   "execution_count": 13,
   "id": "e67e9a76-d98c-495c-87ab-a5369d777b6e",
   "metadata": {},
   "outputs": [
    {
     "data": {
      "text/plain": [
       "[<matplotlib.lines.Line2D at 0x7fc501cda5d0>]"
      ]
     },
     "execution_count": 13,
     "metadata": {},
     "output_type": "execute_result"
    },
    {
     "data": {
      "image/png": "[encoded data removed]",
      "text/plain": [
       "<Figure size 640x480 with 1 Axes>"
      ]
     },
     "metadata": {},
     "output_type": "display_data"
    }
   ],
   "source": [
    "# compute stats\n",
    "y_mean_preMS, y_std_preMS = st.stats(y_pre)\n",
    "y_mean_postMS, y_std_postMS = st.stats(y_post)\n",
    "\n",
    "# plot\n",
    "fig, ax = plt.subplots()\n",
    "\n",
    "x = y_mean_postMS[:,0] # predicted\n",
    "y = data_y['logAge']\n",
    "\n",
    "ax.scatter(x,y)\n",
    "\n",
    "z = np.linspace(8.8,10,2)\n",
    "ax.plot(z,z,color='r')"
   ]
  }
 ],
 "metadata": {
  "kernelspec": {
   "display_name": "Python 3 (ipykernel)",
   "language": "python",
   "name": "python3"
  },
  "language_info": {
   "codemirror_mode": {
    "name": "ipython",
    "version": 3
   },
   "file_extension": ".py",
   "mimetype": "text/x-python",
   "name": "python",
   "nbconvert_exporter": "python",
   "pygments_lexer": "ipython3",
   "version": "3.11.4"
  }
 },
 "nbformat": 4,
 "nbformat_minor": 5
}
